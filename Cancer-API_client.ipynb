{
 "cells": [
  {
   "cell_type": "markdown",
   "metadata": {},
   "source": [
    "### Run the rest_service.py before this for it to be online"
   ]
  },
  {
   "cell_type": "code",
   "execution_count": 1,
   "metadata": {
    "collapsed": true
   },
   "outputs": [],
   "source": [
    "import requests, json\n",
    "\n",
    "text = 'cancer accounts for 5–10% of the total patients in Chinese women. Germline mutations in breast cancer susceptibility genes, BRCA1(MIM♯ 113705) and BRCA2(MIM♯ 600185), are responsible for only approximately 10% of Chinese breast cancer families [Liede and Narod, 2002]; other breast cancer susceptibility genes related to Chinese breast cancer families therefore remain to be identified.  CHEK2 (Cell-cycle-checkpoint kinase 2, also known as CHK2; MIM♯ 604373, NM_007194.3) is located on chromosome 22q and encodes a multifunctional kinase that plays an important role in cell cycle regulation, apoptosis, and DNA repair [Bartek et al., 2001]. The CHEK2 gene contains three distinct functional domains, the SQ/TQ-rich domain (residues 19–69), the forkhead-associated domain (residues 115–165), and the Serine/threonine kinase domain (residues 225–490) [Bartek et al., 2001]. CHEK2 is activated by the ataxia-telangiectasia mutated (ATM; MIM♯ 607585) protein in response to DNA damage. Phosphorylation at T68 in the SQ/TQ-rich domain of CHEK2 is likely to be an initiating event and it is a prerequisite for the subsequent activation step, which is followed by autophosphorylation of CHEK2 on residues T383 and T387 in the activation loop of the kinase domain [Bartek et al., 2001].  A previous study has demonstrated that CHEK2 is a moderate breast cancer susceptibility gene [Meijers-Heijboer et al., 2002]. A recurrent mutation, c.1100delC, which abolishes the kinase function of CHEK2, confers a twofold increased breast cancer risk '\n",
    "gene = 'CHEK2'\n",
    "var = 'H371Y'"
   ]
  },
  {
   "cell_type": "code",
   "execution_count": 7,
   "metadata": {
    "collapsed": false
   },
   "outputs": [
    {
     "data": {
      "text/plain": [
       "{'results': [4]}"
      ]
     },
     "execution_count": 7,
     "metadata": {},
     "output_type": "execute_result"
    }
   ],
   "source": [
    "url = \"http://localhost:9000/api\"\n",
    "data = json.dumps({'gene': gene, 'var': var, 'text' : text})\n",
    "r = requests.post(url, data)\n",
    "\n",
    "r.json()"
   ]
  },
  {
   "cell_type": "code",
   "execution_count": null,
   "metadata": {
    "collapsed": true
   },
   "outputs": [],
   "source": []
  }
 ],
 "metadata": {
  "kernelspec": {
   "display_name": "Python 3",
   "language": "python",
   "name": "python3"
  },
  "language_info": {
   "codemirror_mode": {
    "name": "ipython",
    "version": 3
   },
   "file_extension": ".py",
   "mimetype": "text/x-python",
   "name": "python",
   "nbconvert_exporter": "python",
   "pygments_lexer": "ipython3",
   "version": "3.6.3"
  }
 },
 "nbformat": 4,
 "nbformat_minor": 2
}
